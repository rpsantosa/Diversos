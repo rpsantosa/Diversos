{
 "cells": [
  {
   "cell_type": "code",
   "execution_count": 132,
   "metadata": {
    "collapsed": true
   },
   "outputs": [],
   "source": [
    "x = \"AB C       D E DE G F G F C F GAC DE B D EF G B ABC FC BAF G D E       AF A E B AC D GF GD AE C E DG CB AB C D E F  H J K LM I H J K LM I I J K LM H I J K LM H G G D E AB C F\""
   ]
  },
  {
   "cell_type": "code",
   "execution_count": 133,
   "outputs": [],
   "source": [
    "path= \"/Users/rps/Library/Mobile Documents/com~apple~CloudDocs/med2022/Gineco/INTERNOS G3 - DIVISAO SEMINARIOS G3A.pdf\""
   ],
   "metadata": {
    "collapsed": false,
    "pycharm": {
     "name": "#%%\n"
    }
   }
  },
  {
   "cell_type": "code",
   "execution_count": 134,
   "outputs": [
    {
     "data": {
      "text/plain": "Counter({'A': 10,\n         'B': 9,\n         ' ': 81,\n         'C': 10,\n         'D': 10,\n         'E': 10,\n         'G': 10,\n         'F': 10,\n         'H': 4,\n         'J': 4,\n         'K': 4,\n         'L': 4,\n         'M': 4,\n         'I': 4})"
     },
     "execution_count": 134,
     "metadata": {},
     "output_type": "execute_result"
    }
   ],
   "source": [
    "from collections import Counter\n",
    "my_str = x\n",
    "counter = Counter(my_str)\n",
    "#print(counter['A'])\n",
    "counter"
   ],
   "metadata": {
    "collapsed": false,
    "pycharm": {
     "name": "#%%\n"
    }
   }
  },
  {
   "cell_type": "code",
   "execution_count": 135,
   "outputs": [
    {
     "name": "stdout",
     "output_type": "stream",
     "text": [
      "     DATA     Unnamed: 0 Unnamed: 1   HU PA/Amb/ CC Estudo      Unnamed: 2  \\\n",
      "0   17/01  segunda-feira      MANHA     A B C D E F      G             NaN   \n",
      "1     NaN            NaN      TARDE     A B C D E F      G             NaN   \n",
      "2   18/01    terça-feira      MANHA     A B C D E G      F             NaN   \n",
      "3     NaN            NaN      TARDE     A B C D E G      F             NaN   \n",
      "4   19/01   quarta-feira      MANHA     A B C D F G      E             NaN   \n",
      "5     NaN            NaN      TARDE     A B C D F G      E             NaN   \n",
      "6   20/01   quinta-feira      MANHA     A B C E F G      D             NaN   \n",
      "7     NaN            NaN      TARDE     A B C E F G      D             NaN   \n",
      "8   21/01    sexta-feira      MANHA     A B D E F G      C             NaN   \n",
      "9     NaN            NaN      TARDE     A B D E F G      C             NaN   \n",
      "10  24/01  segunda-feira      MANHA         FERIADO    NaN         FERIADO   \n",
      "11    NaN            NaN      TARDE             NaN    NaN             NaN   \n",
      "12  25/01    terça-feira      MANHA  EMENDA FERIADO    NaN  EMENDA FERIADO   \n",
      "13    NaN            NaN      TARDE             NaN    NaN             NaN   \n",
      "14  26/01   quarta-feira      MANHA     A C D E F G      B             NaN   \n",
      "15    NaN            NaN      TARDE     A C D E F G      B             NaN   \n",
      "16  27/01   quinta-feira      MANHA     B C D E F G      A             NaN   \n",
      "17    NaN            NaN      TARDE     B C D E F G      A             NaN   \n",
      "18    NaN            NaN        NaN             NaN    NaN             NaN   \n",
      "19  28/01    sexta-feira      MANHA       H I J K L      M             NaN   \n",
      "20    NaN            NaN      TARDE       H I J K L      M             NaN   \n",
      "21  31/01  segunda-feira      MANHA       H I J K M      L             NaN   \n",
      "22    NaN            NaN      TARDE       H I J K M      L             NaN   \n",
      "23  01/02    terça-feira      MANHA       H I J L M      K             NaN   \n",
      "24    NaN            NaN      TARDE       H I J L M      K             NaN   \n",
      "25  02/02   quarta-feira      MANHA       H I K L M      J             NaN   \n",
      "26    NaN            NaN      TARDE       H I K L M      J             NaN   \n",
      "27  03/02   quinta-feira      MANHA       H J K L M      I             NaN   \n",
      "28    NaN            NaN      TARDE       H J K L M      I             NaN   \n",
      "29  04/02    sexta-feira      MANHA       I J K L M      H             NaN   \n",
      "30    NaN            NaN      TARDE       I J K L M      H             NaN   \n",
      "31    NaN            NaN        NaN             NaN    NaN             NaN   \n",
      "\n",
      "   CSE Paula\\rSouza CSE\\rButantã SAEP Cirurgia\\rMasto Amb\\rMasto\\rICESP  \\\n",
      "0             H I J          NaN  NaN             K L               NaN   \n",
      "1               NaN          NaN  NaN             K L                 I   \n",
      "2               NaN          NaN  NaN               I                 K   \n",
      "3             K L M            H  NaN               I               NaN   \n",
      "4               H I          NaN  NaN               J               NaN   \n",
      "5               NaN          NaN    M               J                 H   \n",
      "6               NaN          NaN    I             H M               NaN   \n",
      "7             J K L          NaN  NaN             H M               NaN   \n",
      "8               NaN          NaN  NaN               I               NaN   \n",
      "9               NaN          NaN  NaN               I               NaN   \n",
      "10              NaN          NaN  NaN             NaN               NaN   \n",
      "11              NaN          NaN  NaN             NaN               NaN   \n",
      "12              NaN          NaN  NaN             NaN               NaN   \n",
      "13              NaN          NaN  NaN             NaN               NaN   \n",
      "14              H L          NaN  NaN               K               NaN   \n",
      "15              NaN          NaN    J               K                 M   \n",
      "16              NaN          NaN    K             H J               NaN   \n",
      "17            I L M          NaN  NaN             H J               NaN   \n",
      "18              NaN          NaN  NaN               I               NaN   \n",
      "19              NaN          NaN  NaN               A               NaN   \n",
      "20              NaN          NaN  NaN               A               NaN   \n",
      "21            A B C          NaN  NaN             D E               NaN   \n",
      "22              NaN          NaN  NaN             D E                 G   \n",
      "23              NaN          NaN  NaN               B                 A   \n",
      "24            D E F            G  NaN               B               NaN   \n",
      "25              A B          NaN  NaN               C                 E   \n",
      "26              NaN          NaN    F               C                 B   \n",
      "27              NaN          NaN    B             A F               NaN   \n",
      "28            G D E          NaN  NaN             A F               NaN   \n",
      "29              NaN          NaN  NaN               G               NaN   \n",
      "30              NaN          NaN  NaN               G               NaN   \n",
      "31              NaN          NaN  NaN             NaN               NaN   \n",
      "\n",
      "   AGD\\rMasto Cirurgia\\rOnco Amb Onco  CRH Estudo.1  Unnamed: 3  \n",
      "0         NaN              M      NaN  NaN      NaN         NaN  \n",
      "1           J              M      NaN  NaN        H         NaN  \n",
      "2         NaN              J      NaN    L      H M         NaN  \n",
      "3         NaN              J      NaN  NaN      NaN         NaN  \n",
      "4         NaN              L        K  NaN        M         NaN  \n",
      "5           I              L      NaN  NaN        K         NaN  \n",
      "6         NaN            NaN        L    J        K         NaN  \n",
      "7         NaN            NaN      NaN  NaN        I         NaN  \n",
      "8         NaN            NaN        J  H K      L M         NaN  \n",
      "9         K M            NaN      NaN  NaN    H J L         NaN  \n",
      "10        NaN            NaN      NaN  NaN      NaN         NaN  \n",
      "11        NaN            NaN      NaN  NaN      NaN         NaN  \n",
      "12        NaN            NaN      NaN  NaN      NaN         NaN  \n",
      "13        NaN            NaN      NaN  NaN      NaN         NaN  \n",
      "14        NaN              I        M  NaN        J         NaN  \n",
      "15          H              I      NaN  NaN        L         NaN  \n",
      "16        NaN            NaN        L    M        I         NaN  \n",
      "17        NaN            NaN      NaN  NaN        K         NaN  \n",
      "18        NaN            NaN      NaN  NaN      NaN         NaN  \n",
      "19        NaN            NaN      D E  B C      F G         NaN  \n",
      "20        F G            NaN      NaN  NaN  B C D E         NaN  \n",
      "21        NaN              F      NaN    G      NaN         NaN  \n",
      "22          B              F      NaN  NaN      A C         NaN  \n",
      "23        NaN              C      NaN  F G      D E         NaN  \n",
      "24          A              C      NaN  NaN      NaN         NaN  \n",
      "25        NaN              D        G  NaN        F         NaN  \n",
      "26          G              D      NaN  NaN      A E         NaN  \n",
      "27        NaN            NaN        C    E      D G         NaN  \n",
      "28          C            NaN      NaN  NaN        B         NaN  \n",
      "29        NaN            NaN      A B  C D      E F         NaN  \n",
      "30        D E            NaN      NaN  NaN  A B C F         NaN  \n",
      "31        NaN            NaN      NaN  NaN      NaN         NaN  \n"
     ]
    }
   ],
   "source": [
    "path= \"/Users/rps/Library/Mobile Documents/com~apple~CloudDocs/med2022/Gineco/INTERNOS G3 - DIVISAO GRADES G3A.pdf\"\n",
    "#path = \"x.pdf\"\n",
    "# Import the required Module\n",
    "import tabula\n",
    "# Read a PDF File\n",
    "df = tabula.read_pdf(path, pages='all')[0]\n",
    "# convert PDF into CSV\n",
    "#tabula.convert_into(path, \"x.csv\", output_format=\"csv\", pages='all')\n",
    "print(df)"
   ],
   "metadata": {
    "collapsed": false,
    "pycharm": {
     "name": "#%%\n"
    }
   }
  },
  {
   "cell_type": "code",
   "execution_count": 136,
   "outputs": [
    {
     "data": {
      "text/plain": "   HU PA/Amb/ CC Estudo Unnamed: 2 CSE Paula\\rSouza CSE\\rButantã SAEP  \\\n0    A B C D E F      G                       H I J                     \n1    A B C D E F      G                                                 \n2    A B C D E G      F                                                 \n3    A B C D E G      F                       K L M            H        \n4    A B C D F G      E                         H I                     \n5    A B C D F G      E                                             M   \n6    A B C E F G      D                                             I   \n7    A B C E F G      D                       J K L                     \n8    A B D E F G      C                                                 \n9    A B D E F G      C                                                 \n14   A C D E F G      B                         H L                     \n15   A C D E F G      B                                             J   \n16   B C D E F G      A                                             K   \n17   B C D E F G      A                       I L M                     \n19     H I J K L      M                                                 \n20     H I J K L      M                                                 \n21     H I J K M      L                       A B C                     \n22     H I J K M      L                                                 \n23     H I J L M      K                                                 \n24     H I J L M      K                       D E F            G        \n25     H I K L M      J                         A B                     \n26     H I K L M      J                                             F   \n27     H J K L M      I                                             B   \n28     H J K L M      I                       G D E                     \n29     I J K L M      H                                                 \n30     I J K L M      H                                                 \n\n   Cirurgia\\rMasto Amb\\rMasto\\rICESP AGD\\rMasto Cirurgia\\rOnco Amb Onco  CRH  \\\n0              K L                                           M                 \n1              K L                 I          J              M                 \n2                I                 K                         J             L   \n3                I                                           J                 \n4                J                                           L        K        \n5                J                 H          I              L                 \n6              H M                                                    L    J   \n7              H M                                                             \n8                I                                                    J  H K   \n9                I                          K M                                \n14               K                                           I        M        \n15               K                 M          H              I                 \n16             H J                                                    L    M   \n17             H J                                                             \n19               A                                                  D E  B C   \n20               A                          F G                                \n21             D E                                           F             G   \n22             D E                 G          B              F                 \n23               B                 A                         C           F G   \n24               B                            A              C                 \n25               C                 E                         D        G        \n26               C                 B          G              D                 \n27             A F                                                    C    E   \n28             A F                            C                                \n29               G                                                  A B  C D   \n30               G                          D E                                \n\n   Estudo.1 Unnamed: 3  \n0                       \n1         H             \n2       H M             \n3                       \n4         M             \n5         K             \n6         K             \n7         I             \n8       L M             \n9     H J L             \n14        J             \n15        L             \n16        I             \n17        K             \n19      F G             \n20  B C D E             \n21                      \n22      A C             \n23      D E             \n24                      \n25        F             \n26      A E             \n27      D G             \n28        B             \n29      E F             \n30  A B C F             ",
      "text/html": "<div>\n<style scoped>\n    .dataframe tbody tr th:only-of-type {\n        vertical-align: middle;\n    }\n\n    .dataframe tbody tr th {\n        vertical-align: top;\n    }\n\n    .dataframe thead th {\n        text-align: right;\n    }\n</style>\n<table border=\"1\" class=\"dataframe\">\n  <thead>\n    <tr style=\"text-align: right;\">\n      <th></th>\n      <th>HU PA/Amb/ CC</th>\n      <th>Estudo</th>\n      <th>Unnamed: 2</th>\n      <th>CSE Paula\\rSouza</th>\n      <th>CSE\\rButantã</th>\n      <th>SAEP</th>\n      <th>Cirurgia\\rMasto</th>\n      <th>Amb\\rMasto\\rICESP</th>\n      <th>AGD\\rMasto</th>\n      <th>Cirurgia\\rOnco</th>\n      <th>Amb Onco</th>\n      <th>CRH</th>\n      <th>Estudo.1</th>\n      <th>Unnamed: 3</th>\n    </tr>\n  </thead>\n  <tbody>\n    <tr>\n      <th>0</th>\n      <td>A B C D E F</td>\n      <td>G</td>\n      <td></td>\n      <td>H I J</td>\n      <td></td>\n      <td></td>\n      <td>K L</td>\n      <td></td>\n      <td></td>\n      <td>M</td>\n      <td></td>\n      <td></td>\n      <td></td>\n      <td></td>\n    </tr>\n    <tr>\n      <th>1</th>\n      <td>A B C D E F</td>\n      <td>G</td>\n      <td></td>\n      <td></td>\n      <td></td>\n      <td></td>\n      <td>K L</td>\n      <td>I</td>\n      <td>J</td>\n      <td>M</td>\n      <td></td>\n      <td></td>\n      <td>H</td>\n      <td></td>\n    </tr>\n    <tr>\n      <th>2</th>\n      <td>A B C D E G</td>\n      <td>F</td>\n      <td></td>\n      <td></td>\n      <td></td>\n      <td></td>\n      <td>I</td>\n      <td>K</td>\n      <td></td>\n      <td>J</td>\n      <td></td>\n      <td>L</td>\n      <td>H M</td>\n      <td></td>\n    </tr>\n    <tr>\n      <th>3</th>\n      <td>A B C D E G</td>\n      <td>F</td>\n      <td></td>\n      <td>K L M</td>\n      <td>H</td>\n      <td></td>\n      <td>I</td>\n      <td></td>\n      <td></td>\n      <td>J</td>\n      <td></td>\n      <td></td>\n      <td></td>\n      <td></td>\n    </tr>\n    <tr>\n      <th>4</th>\n      <td>A B C D F G</td>\n      <td>E</td>\n      <td></td>\n      <td>H I</td>\n      <td></td>\n      <td></td>\n      <td>J</td>\n      <td></td>\n      <td></td>\n      <td>L</td>\n      <td>K</td>\n      <td></td>\n      <td>M</td>\n      <td></td>\n    </tr>\n    <tr>\n      <th>5</th>\n      <td>A B C D F G</td>\n      <td>E</td>\n      <td></td>\n      <td></td>\n      <td></td>\n      <td>M</td>\n      <td>J</td>\n      <td>H</td>\n      <td>I</td>\n      <td>L</td>\n      <td></td>\n      <td></td>\n      <td>K</td>\n      <td></td>\n    </tr>\n    <tr>\n      <th>6</th>\n      <td>A B C E F G</td>\n      <td>D</td>\n      <td></td>\n      <td></td>\n      <td></td>\n      <td>I</td>\n      <td>H M</td>\n      <td></td>\n      <td></td>\n      <td></td>\n      <td>L</td>\n      <td>J</td>\n      <td>K</td>\n      <td></td>\n    </tr>\n    <tr>\n      <th>7</th>\n      <td>A B C E F G</td>\n      <td>D</td>\n      <td></td>\n      <td>J K L</td>\n      <td></td>\n      <td></td>\n      <td>H M</td>\n      <td></td>\n      <td></td>\n      <td></td>\n      <td></td>\n      <td></td>\n      <td>I</td>\n      <td></td>\n    </tr>\n    <tr>\n      <th>8</th>\n      <td>A B D E F G</td>\n      <td>C</td>\n      <td></td>\n      <td></td>\n      <td></td>\n      <td></td>\n      <td>I</td>\n      <td></td>\n      <td></td>\n      <td></td>\n      <td>J</td>\n      <td>H K</td>\n      <td>L M</td>\n      <td></td>\n    </tr>\n    <tr>\n      <th>9</th>\n      <td>A B D E F G</td>\n      <td>C</td>\n      <td></td>\n      <td></td>\n      <td></td>\n      <td></td>\n      <td>I</td>\n      <td></td>\n      <td>K M</td>\n      <td></td>\n      <td></td>\n      <td></td>\n      <td>H J L</td>\n      <td></td>\n    </tr>\n    <tr>\n      <th>14</th>\n      <td>A C D E F G</td>\n      <td>B</td>\n      <td></td>\n      <td>H L</td>\n      <td></td>\n      <td></td>\n      <td>K</td>\n      <td></td>\n      <td></td>\n      <td>I</td>\n      <td>M</td>\n      <td></td>\n      <td>J</td>\n      <td></td>\n    </tr>\n    <tr>\n      <th>15</th>\n      <td>A C D E F G</td>\n      <td>B</td>\n      <td></td>\n      <td></td>\n      <td></td>\n      <td>J</td>\n      <td>K</td>\n      <td>M</td>\n      <td>H</td>\n      <td>I</td>\n      <td></td>\n      <td></td>\n      <td>L</td>\n      <td></td>\n    </tr>\n    <tr>\n      <th>16</th>\n      <td>B C D E F G</td>\n      <td>A</td>\n      <td></td>\n      <td></td>\n      <td></td>\n      <td>K</td>\n      <td>H J</td>\n      <td></td>\n      <td></td>\n      <td></td>\n      <td>L</td>\n      <td>M</td>\n      <td>I</td>\n      <td></td>\n    </tr>\n    <tr>\n      <th>17</th>\n      <td>B C D E F G</td>\n      <td>A</td>\n      <td></td>\n      <td>I L M</td>\n      <td></td>\n      <td></td>\n      <td>H J</td>\n      <td></td>\n      <td></td>\n      <td></td>\n      <td></td>\n      <td></td>\n      <td>K</td>\n      <td></td>\n    </tr>\n    <tr>\n      <th>19</th>\n      <td>H I J K L</td>\n      <td>M</td>\n      <td></td>\n      <td></td>\n      <td></td>\n      <td></td>\n      <td>A</td>\n      <td></td>\n      <td></td>\n      <td></td>\n      <td>D E</td>\n      <td>B C</td>\n      <td>F G</td>\n      <td></td>\n    </tr>\n    <tr>\n      <th>20</th>\n      <td>H I J K L</td>\n      <td>M</td>\n      <td></td>\n      <td></td>\n      <td></td>\n      <td></td>\n      <td>A</td>\n      <td></td>\n      <td>F G</td>\n      <td></td>\n      <td></td>\n      <td></td>\n      <td>B C D E</td>\n      <td></td>\n    </tr>\n    <tr>\n      <th>21</th>\n      <td>H I J K M</td>\n      <td>L</td>\n      <td></td>\n      <td>A B C</td>\n      <td></td>\n      <td></td>\n      <td>D E</td>\n      <td></td>\n      <td></td>\n      <td>F</td>\n      <td></td>\n      <td>G</td>\n      <td></td>\n      <td></td>\n    </tr>\n    <tr>\n      <th>22</th>\n      <td>H I J K M</td>\n      <td>L</td>\n      <td></td>\n      <td></td>\n      <td></td>\n      <td></td>\n      <td>D E</td>\n      <td>G</td>\n      <td>B</td>\n      <td>F</td>\n      <td></td>\n      <td></td>\n      <td>A C</td>\n      <td></td>\n    </tr>\n    <tr>\n      <th>23</th>\n      <td>H I J L M</td>\n      <td>K</td>\n      <td></td>\n      <td></td>\n      <td></td>\n      <td></td>\n      <td>B</td>\n      <td>A</td>\n      <td></td>\n      <td>C</td>\n      <td></td>\n      <td>F G</td>\n      <td>D E</td>\n      <td></td>\n    </tr>\n    <tr>\n      <th>24</th>\n      <td>H I J L M</td>\n      <td>K</td>\n      <td></td>\n      <td>D E F</td>\n      <td>G</td>\n      <td></td>\n      <td>B</td>\n      <td></td>\n      <td>A</td>\n      <td>C</td>\n      <td></td>\n      <td></td>\n      <td></td>\n      <td></td>\n    </tr>\n    <tr>\n      <th>25</th>\n      <td>H I K L M</td>\n      <td>J</td>\n      <td></td>\n      <td>A B</td>\n      <td></td>\n      <td></td>\n      <td>C</td>\n      <td>E</td>\n      <td></td>\n      <td>D</td>\n      <td>G</td>\n      <td></td>\n      <td>F</td>\n      <td></td>\n    </tr>\n    <tr>\n      <th>26</th>\n      <td>H I K L M</td>\n      <td>J</td>\n      <td></td>\n      <td></td>\n      <td></td>\n      <td>F</td>\n      <td>C</td>\n      <td>B</td>\n      <td>G</td>\n      <td>D</td>\n      <td></td>\n      <td></td>\n      <td>A E</td>\n      <td></td>\n    </tr>\n    <tr>\n      <th>27</th>\n      <td>H J K L M</td>\n      <td>I</td>\n      <td></td>\n      <td></td>\n      <td></td>\n      <td>B</td>\n      <td>A F</td>\n      <td></td>\n      <td></td>\n      <td></td>\n      <td>C</td>\n      <td>E</td>\n      <td>D G</td>\n      <td></td>\n    </tr>\n    <tr>\n      <th>28</th>\n      <td>H J K L M</td>\n      <td>I</td>\n      <td></td>\n      <td>G D E</td>\n      <td></td>\n      <td></td>\n      <td>A F</td>\n      <td></td>\n      <td>C</td>\n      <td></td>\n      <td></td>\n      <td></td>\n      <td>B</td>\n      <td></td>\n    </tr>\n    <tr>\n      <th>29</th>\n      <td>I J K L M</td>\n      <td>H</td>\n      <td></td>\n      <td></td>\n      <td></td>\n      <td></td>\n      <td>G</td>\n      <td></td>\n      <td></td>\n      <td></td>\n      <td>A B</td>\n      <td>C D</td>\n      <td>E F</td>\n      <td></td>\n    </tr>\n    <tr>\n      <th>30</th>\n      <td>I J K L M</td>\n      <td>H</td>\n      <td></td>\n      <td></td>\n      <td></td>\n      <td></td>\n      <td>G</td>\n      <td></td>\n      <td>D E</td>\n      <td></td>\n      <td></td>\n      <td></td>\n      <td>A B C F</td>\n      <td></td>\n    </tr>\n  </tbody>\n</table>\n</div>"
     },
     "execution_count": 136,
     "metadata": {},
     "output_type": "execute_result"
    }
   ],
   "source": [
    "df1 =df.dropna( subset = ['Estudo'])\n",
    "df1 = df1.fillna(' ')\n",
    "#df1.drop( df1.colunns[0,1,2], axis = 1)\n",
    "df1 = df1.iloc[:,3:]\n",
    "df1"
   ],
   "metadata": {
    "collapsed": false,
    "pycharm": {
     "name": "#%%\n"
    }
   }
  },
  {
   "cell_type": "code",
   "execution_count": 137,
   "outputs": [],
   "source": [
    "# from collections import Counter\n",
    "# my_str = [ df1.iloc[:,i].values.tolist() for i in range(len(df1.columns)) ]\n",
    "# x = ' '.join(my_str)\n",
    "# counter = Counter(x)\n",
    "# counter\n",
    "#print(x)"
   ],
   "metadata": {
    "collapsed": false,
    "pycharm": {
     "name": "#%%\n"
    }
   }
  },
  {
   "cell_type": "code",
   "execution_count": 138,
   "outputs": [
    {
     "data": {
      "text/plain": "Counter({'A': 26,\n         ' ': 729,\n         'B': 26,\n         'C': 26,\n         'D': 26,\n         'E': 26,\n         'F': 26,\n         'G': 26,\n         'H': 26,\n         'I': 26,\n         'J': 26,\n         'K': 26,\n         'L': 26,\n         'M': 26})"
     },
     "execution_count": 138,
     "metadata": {},
     "output_type": "execute_result"
    }
   ],
   "source": [
    "from collections import Counter\n",
    "\n",
    "my_str = [ df1.iloc[:,i].values.tolist() for i in range(len(df1.columns)) ]\n",
    "# convert list of list in list\n",
    "my_str = [ item for sublist in my_str for item in sublist]\n",
    "#x = ' '.join(my_str)\n",
    "\n",
    "x = ' '.join(my_str)\n",
    "counter = Counter(x)\n",
    "counter"
   ],
   "metadata": {
    "collapsed": false,
    "pycharm": {
     "name": "#%%\n"
    }
   }
  },
  {
   "cell_type": "markdown",
   "source": [
    "* Entao, todos os grupos ( letras) tem o mesmo numero de aulas "
   ],
   "metadata": {
    "collapsed": false,
    "pycharm": {
     "name": "#%% md\n"
    }
   }
  },
  {
   "cell_type": "code",
   "execution_count": null,
   "outputs": [],
   "source": [],
   "metadata": {
    "collapsed": false,
    "pycharm": {
     "name": "#%%\n"
    }
   }
  }
 ],
 "metadata": {
  "kernelspec": {
   "display_name": "Python 3",
   "language": "python",
   "name": "python3"
  },
  "language_info": {
   "codemirror_mode": {
    "name": "ipython",
    "version": 2
   },
   "file_extension": ".py",
   "mimetype": "text/x-python",
   "name": "python",
   "nbconvert_exporter": "python",
   "pygments_lexer": "ipython2",
   "version": "2.7.6"
  }
 },
 "nbformat": 4,
 "nbformat_minor": 0
}